{
 "cells": [
  {
   "cell_type": "markdown",
   "metadata": {},
   "source": [
    "# Copyright and disclaimer "
   ]
  },
  {
   "cell_type": "markdown",
   "metadata": {},
   "source": [
    "This work is licensed under the Creative Commons Attribution-NonCommercial-ShareAlike 4.0 International License. To view a copy of this license, visit [this page](http://creativecommons.org/licenses/by-nc-sa/4.0/) or send a letter to Creative Commons, PO Box 1866, Mountain View, CA 94042, USA.\n",
    "\n",
    "The license gives you permission to copy, distribute and modify the code as you see fit provided that your work is intended for non-commercial purposes, you give me and the previous author credit, and you retain the license in all your releases derived from this work.\n",
    "\n",
    "The code below consists mostly of an implementation of original code developed by and kindly provided by Igor Douven inside a Jupyter notebook environment. I modified the code and wrapped it in terms of functions to facilitate my usage. I make no claims to ease of comprehension or reproductibility."
   ]
  },
  {
   "cell_type": "markdown",
   "metadata": {},
   "source": [
    "# Introduction "
   ]
  },
  {
   "cell_type": "markdown",
   "metadata": {},
   "source": [
    "The version of the Hegselmann-Krause model implemented by Douven is given by\n",
    "\n",
    "$$\n",
    "x_{i}(u+1)=\\alpha \\frac{1}{\\left|X_{i}(u)\\right|} \\sum_{j \\in X_{i}(u)} x_{j}(u)+(1-\\alpha)(\\tau+\\operatorname{rnd}(\\zeta))\n",
    "$$\n",
    "\n",
    "whereby\n",
    "\n",
    "$$\n",
    "X_{i}(u) :=\\left\\{j :\\left|x_{i}(u)-x_{j}(u)\\right| \\leq \\varepsilon\\right\\}\n",
    "$$\n",
    "\n",
    "In what follows, all the code used is copyright of Igor Douven unless stated otherwise."
   ]
  },
  {
   "cell_type": "markdown",
   "metadata": {},
   "source": [
    "## Hegselmann-Krause Updater "
   ]
  },
  {
   "cell_type": "code",
   "execution_count": 1,
   "metadata": {},
   "outputs": [
    {
     "name": "stderr",
     "output_type": "stream",
     "text": [
      "┌ Info: Loading DataFrames support into Gadfly.jl\n",
      "└ @ Gadfly /home/sebastian/.julia/packages/Gadfly/09PWZ/src/mapping.jl:228\n"
     ]
    }
   ],
   "source": [
    "# import necessary packages\n",
    "using Distributions, Gadfly, Compose, DataFrames, StatsBase"
   ]
  },
  {
   "cell_type": "code",
   "execution_count": 2,
   "metadata": {},
   "outputs": [
    {
     "data": {
      "text/plain": [
       "hk_upd_n (generic function with 1 method)"
      ]
     },
     "execution_count": 2,
     "metadata": {},
     "output_type": "execute_result"
    }
   ],
   "source": [
    "# define the updater. see the paper for explanations\n",
    "#function hk_upd_n(n_agents::Int64, n_steps::Int64, ϵ::Float64, α::Float64, τ::Float64, ζ::Float64, averaging)\n",
    "function hk_upd_n(n_agents, n_steps, ϵ, α, τ, ζ, averaging)\n",
    "    hk_ar = Array{Float64,2}(undef, n_agents, n_steps + 1)\n",
    "    hk_ar[:, 1] = rand(n_agents)\n",
    "    for j in 1:n_steps, i in 1:n_agents\n",
    "        fa = isapprox.(hk_ar[:, j], hk_ar[:, j][i], atol=ϵ)\n",
    "        hk_ar[i, j + 1] = α*averaging(hk_ar[:, j][fa]) + (1 - α)*max(0, min(1, τ + rand(Uniform(-ζ, ζ))))\n",
    "    end\n",
    "    return hk_ar\n",
    "end\n",
    "\n",
    "# OPEN QUESTION: specifying the data types gives me an error. Why?\n",
    "# Restarting the kernel... misteriosos son los caminos"
   ]
  },
  {
   "cell_type": "code",
   "execution_count": 5,
   "metadata": {},
   "outputs": [],
   "source": [
    "# declare the parameter values as used in the 2010 paper\n",
    "ϵ = 0.1; α = 0.9; τ = 0.75; ζ = 0.2;"
   ]
  },
  {
   "cell_type": "code",
   "execution_count": 24,
   "metadata": {},
   "outputs": [
    {
     "data": {
      "text/plain": [
       "25×51 Array{Float64,2}:\n",
       " 0.704387    0.687666  0.713068  0.68371   …  0.742661  0.746902  0.735675\n",
       " 0.920065    0.886702  0.850709  0.84337      0.756316  0.726891  0.739545\n",
       " 0.9633      0.904586  0.868353  0.852855     0.737663  0.737687  0.760751\n",
       " 0.153066    0.203986  0.240051  0.282689     0.739968  0.746615  0.764251\n",
       " 0.0939042   0.148917  0.236664  0.286856     0.736811  0.758707  0.740175\n",
       " 0.201284    0.214741  0.210298  0.275777  …  0.738897  0.75897   0.744536\n",
       " 0.724583    0.731308  0.702341  0.689783     0.726275  0.756111  0.730175\n",
       " 0.927988    0.912557  0.877352  0.83106      0.744859  0.7545    0.764038\n",
       " 0.626182    0.639604  0.699934  0.706371     0.738782  0.73856   0.75736 \n",
       " 0.107393    0.164756  0.20994   0.265522     0.737083  0.7514    0.752199\n",
       " 0.756382    0.774432  0.750599  0.726213  …  0.759584  0.722646  0.74115 \n",
       " 0.0482192   0.137823  0.225566  0.289323     0.72866   0.757042  0.750317\n",
       " 0.127967    0.16932   0.246888  0.291837     0.739335  0.730725  0.743428\n",
       " 0.109067    0.196538  0.208197  0.264164     0.727174  0.726338  0.753887\n",
       " 0.738768    0.733248  0.726278  0.702752     0.743958  0.758364  0.731917\n",
       " 0.165222    0.190203  0.225012  0.263776  …  0.749297  0.730055  0.743775\n",
       " 0.00904923  0.115934  0.23868   0.283682     0.730426  0.749056  0.729758\n",
       " 0.840557    0.831144  0.81398   0.797229     0.734311  0.737068  0.728319\n",
       " 0.494569    0.534886  0.593223  0.664381     0.729869  0.730084  0.759828\n",
       " 0.782736    0.737173  0.701947  0.698211     0.761738  0.757669  0.734304\n",
       " 0.0100865   0.131585  0.210256  0.294058  …  0.730117  0.758183  0.738334\n",
       " 0.121356    0.190566  0.215446  0.259776     0.756521  0.728917  0.751681\n",
       " 0.545797    0.598539  0.631122  0.685343     0.742283  0.739382  0.730118\n",
       " 0.60661     0.640808  0.675311  0.696791     0.742891  0.75688   0.760521\n",
       " 0.648873    0.664863  0.675252  0.703573     0.758462  0.762128  0.740019"
      ]
     },
     "execution_count": 24,
     "metadata": {},
     "output_type": "execute_result"
    }
   ],
   "source": [
    "# run a trial simulation\n",
    "res = hk_upd_n(25, 50, ϵ, α, τ, ζ, mean)"
   ]
  },
  {
   "cell_type": "markdown",
   "metadata": {},
   "source": [
    "In the above array, each row corresponds to an agent whereas each column corroesponds to a time step."
   ]
  },
  {
   "cell_type": "markdown",
   "metadata": {},
   "source": [
    "## Data Frames "
   ]
  },
  {
   "cell_type": "markdown",
   "metadata": {},
   "source": [
    "The Gadfly package is designed to work best with dataframes. Hence, we're better off converting res into a dataframe object."
   ]
  },
  {
   "cell_type": "code",
   "execution_count": 26,
   "metadata": {},
   "outputs": [
    {
     "name": "stderr",
     "output_type": "stream",
     "text": [
      "┌ Warning: `setindex!(df::DataFrame, v::AbstractVector, col_ind::ColumnIndex)` is deprecated, use `begin\n",
      "│     df[!, col_ind] = v\n",
      "│     df\n",
      "│ end` instead.\n",
      "│   caller = top-level scope at In[26]:4\n",
      "└ @ Core In[26]:4\n"
     ]
    },
    {
     "data": {
      "text/html": [
       "<table class=\"data-frame\"><thead><tr><th></th><th>variable</th><th>value</th><th>steps</th></tr><tr><th></th><th>Symbol</th><th>Float64</th><th>Int32</th></tr></thead><tbody><p>1,275 rows × 3 columns</p><tr><th>1</th><td>Agent 1</td><td>0.0332152</td><td>1</td></tr><tr><th>2</th><td>Agent 1</td><td>0.0968633</td><td>2</td></tr><tr><th>3</th><td>Agent 1</td><td>0.190823</td><td>3</td></tr><tr><th>4</th><td>Agent 1</td><td>0.248204</td><td>4</td></tr><tr><th>5</th><td>Agent 1</td><td>0.279933</td><td>5</td></tr><tr><th>6</th><td>Agent 1</td><td>0.334502</td><td>6</td></tr><tr><th>7</th><td>Agent 1</td><td>0.356572</td><td>7</td></tr><tr><th>8</th><td>Agent 1</td><td>0.423435</td><td>8</td></tr><tr><th>9</th><td>Agent 1</td><td>0.46118</td><td>9</td></tr><tr><th>10</th><td>Agent 1</td><td>0.480651</td><td>10</td></tr><tr><th>11</th><td>Agent 1</td><td>0.506212</td><td>11</td></tr><tr><th>12</th><td>Agent 1</td><td>0.518226</td><td>12</td></tr><tr><th>13</th><td>Agent 1</td><td>0.530867</td><td>13</td></tr><tr><th>14</th><td>Agent 1</td><td>0.580672</td><td>14</td></tr><tr><th>15</th><td>Agent 1</td><td>0.572577</td><td>15</td></tr><tr><th>16</th><td>Agent 1</td><td>0.598364</td><td>16</td></tr><tr><th>17</th><td>Agent 1</td><td>0.601926</td><td>17</td></tr><tr><th>18</th><td>Agent 1</td><td>0.694267</td><td>18</td></tr><tr><th>19</th><td>Agent 1</td><td>0.705147</td><td>19</td></tr><tr><th>20</th><td>Agent 1</td><td>0.713486</td><td>20</td></tr><tr><th>21</th><td>Agent 1</td><td>0.738988</td><td>21</td></tr><tr><th>22</th><td>Agent 1</td><td>0.715421</td><td>22</td></tr><tr><th>23</th><td>Agent 1</td><td>0.738027</td><td>23</td></tr><tr><th>24</th><td>Agent 1</td><td>0.713246</td><td>24</td></tr><tr><th>25</th><td>Agent 1</td><td>0.718042</td><td>25</td></tr><tr><th>26</th><td>Agent 1</td><td>0.724605</td><td>26</td></tr><tr><th>27</th><td>Agent 1</td><td>0.721719</td><td>27</td></tr><tr><th>28</th><td>Agent 1</td><td>0.738414</td><td>28</td></tr><tr><th>29</th><td>Agent 1</td><td>0.735592</td><td>29</td></tr><tr><th>30</th><td>Agent 1</td><td>0.735513</td><td>30</td></tr><tr><th>&vellip;</th><td>&vellip;</td><td>&vellip;</td><td>&vellip;</td></tr></tbody></table>"
      ],
      "text/latex": [
       "\\begin{tabular}{r|ccc}\n",
       "\t& variable & value & steps\\\\\n",
       "\t\\hline\n",
       "\t& Symbol & Float64 & Int32\\\\\n",
       "\t\\hline\n",
       "\t1 & Agent 1 & 0.0332152 & 1 \\\\\n",
       "\t2 & Agent 1 & 0.0968633 & 2 \\\\\n",
       "\t3 & Agent 1 & 0.190823 & 3 \\\\\n",
       "\t4 & Agent 1 & 0.248204 & 4 \\\\\n",
       "\t5 & Agent 1 & 0.279933 & 5 \\\\\n",
       "\t6 & Agent 1 & 0.334502 & 6 \\\\\n",
       "\t7 & Agent 1 & 0.356572 & 7 \\\\\n",
       "\t8 & Agent 1 & 0.423435 & 8 \\\\\n",
       "\t9 & Agent 1 & 0.46118 & 9 \\\\\n",
       "\t10 & Agent 1 & 0.480651 & 10 \\\\\n",
       "\t11 & Agent 1 & 0.506212 & 11 \\\\\n",
       "\t12 & Agent 1 & 0.518226 & 12 \\\\\n",
       "\t13 & Agent 1 & 0.530867 & 13 \\\\\n",
       "\t14 & Agent 1 & 0.580672 & 14 \\\\\n",
       "\t15 & Agent 1 & 0.572577 & 15 \\\\\n",
       "\t16 & Agent 1 & 0.598364 & 16 \\\\\n",
       "\t17 & Agent 1 & 0.601926 & 17 \\\\\n",
       "\t18 & Agent 1 & 0.694267 & 18 \\\\\n",
       "\t19 & Agent 1 & 0.705147 & 19 \\\\\n",
       "\t20 & Agent 1 & 0.713486 & 20 \\\\\n",
       "\t21 & Agent 1 & 0.738988 & 21 \\\\\n",
       "\t22 & Agent 1 & 0.715421 & 22 \\\\\n",
       "\t23 & Agent 1 & 0.738027 & 23 \\\\\n",
       "\t24 & Agent 1 & 0.713246 & 24 \\\\\n",
       "\t25 & Agent 1 & 0.718042 & 25 \\\\\n",
       "\t26 & Agent 1 & 0.724605 & 26 \\\\\n",
       "\t27 & Agent 1 & 0.721719 & 27 \\\\\n",
       "\t28 & Agent 1 & 0.738414 & 28 \\\\\n",
       "\t29 & Agent 1 & 0.735592 & 29 \\\\\n",
       "\t30 & Agent 1 & 0.735513 & 30 \\\\\n",
       "\t$\\dots$ & $\\dots$ & $\\dots$ & $\\dots$ \\\\\n",
       "\\end{tabular}\n"
      ],
      "text/plain": [
       "1275×3 DataFrame\n",
       "│ Row  │ variable │ value     │ steps │\n",
       "│      │ \u001b[90mSymbol\u001b[39m   │ \u001b[90mFloat64\u001b[39m   │ \u001b[90mInt32\u001b[39m │\n",
       "├──────┼──────────┼───────────┼───────┤\n",
       "│ 1    │ Agent 1  │ 0.0332152 │ 1     │\n",
       "│ 2    │ Agent 1  │ 0.0968633 │ 2     │\n",
       "│ 3    │ Agent 1  │ 0.190823  │ 3     │\n",
       "│ 4    │ Agent 1  │ 0.248204  │ 4     │\n",
       "│ 5    │ Agent 1  │ 0.279933  │ 5     │\n",
       "│ 6    │ Agent 1  │ 0.334502  │ 6     │\n",
       "│ 7    │ Agent 1  │ 0.356572  │ 7     │\n",
       "│ 8    │ Agent 1  │ 0.423435  │ 8     │\n",
       "│ 9    │ Agent 1  │ 0.46118   │ 9     │\n",
       "│ 10   │ Agent 1  │ 0.480651  │ 10    │\n",
       "⋮\n",
       "│ 1265 │ Agent 25 │ 0.721836  │ 41    │\n",
       "│ 1266 │ Agent 25 │ 0.752019  │ 42    │\n",
       "│ 1267 │ Agent 25 │ 0.724524  │ 43    │\n",
       "│ 1268 │ Agent 25 │ 0.764408  │ 44    │\n",
       "│ 1269 │ Agent 25 │ 0.749654  │ 45    │\n",
       "│ 1270 │ Agent 25 │ 0.762554  │ 46    │\n",
       "│ 1271 │ Agent 25 │ 0.748629  │ 47    │\n",
       "│ 1272 │ Agent 25 │ 0.749844  │ 48    │\n",
       "│ 1273 │ Agent 25 │ 0.762166  │ 49    │\n",
       "│ 1274 │ Agent 25 │ 0.77165   │ 50    │\n",
       "│ 1275 │ Agent 25 │ 0.751135  │ 51    │"
      ]
     },
     "execution_count": 26,
     "metadata": {},
     "output_type": "execute_result"
    }
   ],
   "source": [
    "df = DataFrame(res') # transpose\n",
    "names!(df, [Symbol(\"Agent $i\") for i in 1:size(res,1)])\n",
    "df = stack(df)\n",
    "df[:steps] = repeat(1:size(res, 2), outer=size(res, 1))\n",
    "df"
   ]
  },
  {
   "cell_type": "markdown",
   "metadata": {},
   "source": [
    "## A Plot "
   ]
  },
  {
   "cell_type": "code",
   "execution_count": 4,
   "metadata": {},
   "outputs": [],
   "source": [
    "# use this to resize all plots\n",
    "set_default_plot_size(20cm ,15cm)"
   ]
  },
  {
   "cell_type": "code",
   "execution_count": null,
   "metadata": {},
   "outputs": [],
   "source": [
    "res_plot = plot(df, x=:steps, y=:value, color=:variable, Geom.point, Geom.line,\n",
    "    Coord.cartesian(xmax=size(res, 2) + 1),\n",
    "    Guide.xlabel(\"Time Step\"),\n",
    "    Guide.ylabel(\"Believed True Value\"),\n",
    "    Guide.title(\"Trial Run with Parameters: ϵ = $ϵ, α = $α, τ = $τ, ζ = $ζ, mean\"),\n",
    "    yintercept=[τ], Geom.hline(style=:dot, color=colorant\"black\"),\n",
    "    Guide.annotation(compose(context(), Compose.text(size(res, 2) + 1, τ + 0.01, \"τ\"), font(\"DejaVu Mono\"), fontsize(10pt))),\n",
    "    Theme(key_position=:none, point_size=1.25pt,\n",
    "        # toggle colors appropriate to the theme\n",
    "        #major_label_color=colorant\"grey\",\n",
    "        #minor_label_color=colorant\"grey\",\n",
    "        background_color=colorant\"white\",\n",
    "        major_label_font=\"DejaVu Mono\",\n",
    "        minor_label_font=\"DejaVu Mono\",\n",
    "        major_label_font_size=12pt,\n",
    "        minor_label_font_size=8pt),\n",
    ")"
   ]
  },
  {
   "cell_type": "markdown",
   "metadata": {},
   "source": [
    "Alright! Note that the results are robust for these parameter values under changes in number of agents. After $t \\approx 35$, all agents converge on the true value. Let's run a few more tests for the fun of it, shall we?"
   ]
  },
  {
   "cell_type": "markdown",
   "metadata": {},
   "source": [
    "### Noiseless "
   ]
  },
  {
   "cell_type": "code",
   "execution_count": null,
   "metadata": {},
   "outputs": [],
   "source": [
    "# running with no noise\n",
    "#function hk_upd_noiseless(n_agents::Int64, n_steps::Int64, ϵ::Float64, α::Float64, τ::Float64, ζ::Float64, averaging)\n",
    "function hk_upd_noiseless(n_agents, n_steps, ϵ, α, τ, ζ, averaging)\n",
    "    hk_ar = Array{Float64,2}(undef, n_agents, n_steps + 1)\n",
    "    hk_ar[:, 1] = rand(n_agents)\n",
    "    for j in 1:n_steps, i in 1:n_agents\n",
    "        fa = isapprox.(hk_ar[:, j], hk_ar[:, j][i], atol=ϵ)\n",
    "        hk_ar[i, j + 1] = α*averaging(hk_ar[:, j][fa]) + (1 - α)*τ\n",
    "    end\n",
    "    return hk_ar\n",
    "end\n",
    "test1 = hk_upd_noiseless(25, 50, ϵ, α, τ, 0.0, mean)\n",
    "df1 = DataFrame(test1') # transpose\n",
    "names!(df1, [Symbol(\"Agent $i\") for i in 1:size(test1,1)])\n",
    "df1 = stack(df1)\n",
    "df1[:steps] = repeat(1:size(test1, 2), outer=size(test1, 1))\n",
    "test1_plot = plot(df1, x=:steps, y=:value, color=:variable, Geom.point, Geom.line,\n",
    "    Coord.cartesian(xmax=size(test1, 2) + 1),\n",
    "    Guide.xlabel(\"Time Step\"),\n",
    "    Guide.ylabel(\"Believed True Value\"),\n",
    "    Guide.title(\"Trial Run with Parameters: ϵ = $ϵ, α = $α, τ = $τ, ζ = 0, mean\"),\n",
    "    yintercept=[τ], Geom.hline(style=:dot, color=colorant\"grey\"),\n",
    "    Guide.annotation(compose(context(), Compose.text(size(res, 2) + 1, τ + 0.01, \"τ\"), font(\"DejaVu Mono\"), fontsize(10pt))),\n",
    "    Theme(key_position=:none, point_size=1.25pt,\n",
    "        background_color=colorant\"white\",\n",
    "        major_label_font=\"DejaVu Mono\",\n",
    "        minor_label_font=\"DejaVu Mono\",\n",
    "        major_label_font_size=12pt,\n",
    "        minor_label_font_size=8pt))"
   ]
  },
  {
   "cell_type": "markdown",
   "metadata": {},
   "source": [
    "### Large Noise Short-Term"
   ]
  },
  {
   "cell_type": "code",
   "execution_count": null,
   "metadata": {},
   "outputs": [],
   "source": [
    "test2a = hk_upd_n(25, 50, ϵ, α, τ, 0.75, mean)\n",
    "df2a = DataFrame(test2a') # transpose\n",
    "names!(df2a, [Symbol(\"Agent $i\") for i in 1:size(test2a,1)])\n",
    "df2a = stack(df2a)\n",
    "df2a[:steps] = repeat(1:size(test2a, 2), outer=size(test2a, 1))\n",
    "size(df2a)"
   ]
  },
  {
   "cell_type": "code",
   "execution_count": null,
   "metadata": {},
   "outputs": [],
   "source": [
    "test2a_plot = plot(df2a, x=:steps, y=:value, color=:variable, Geom.point, Geom.line,\n",
    "    Coord.cartesian(xmax=size(test2a, 2) + 1),\n",
    "    Guide.xlabel(\"Time Step\"),\n",
    "    Guide.ylabel(\"Believed True Value\"),\n",
    "    Guide.title(\"Trial Run with Parameters: ϵ = $ϵ, α = $α, τ = $τ, ζ = 0.75, mean\"),\n",
    "    yintercept=[τ], Geom.hline(style=:dot, color=colorant\"grey\"),\n",
    "    Guide.annotation(compose(context(), Compose.text(size(test2a, 2) + 1, τ + 0.01, \"τ\"), font(\"DejaVu Mono\"), fontsize(10pt))),\n",
    "    Theme(key_position=:none, point_size=1.25pt,\n",
    "        background_color=colorant\"white\",\n",
    "        major_label_font=\"DejaVu Mono\",\n",
    "        minor_label_font=\"DejaVu Mono\",\n",
    "        major_label_font_size=12pt,\n",
    "        minor_label_font_size=8pt))"
   ]
  },
  {
   "cell_type": "markdown",
   "metadata": {},
   "source": [
    "### Large Noise Long-Term "
   ]
  },
  {
   "cell_type": "code",
   "execution_count": null,
   "metadata": {},
   "outputs": [],
   "source": [
    "test2 = hk_upd_n(25, 500, ϵ, α, τ, 0.75, mean)\n",
    "df2 = DataFrame(test2') # transpose\n",
    "names!(df2, [Symbol(\"Agent $i\") for i in 1:size(test2,1)])\n",
    "df2 = stack(df2)\n",
    "df2[:steps] = repeat(1:size(test2, 2), outer=size(test2, 1))"
   ]
  },
  {
   "cell_type": "code",
   "execution_count": null,
   "metadata": {},
   "outputs": [],
   "source": [
    "test2_plot = plot(df2, x=:steps, y=:value, color=:variable, Geom.point, Geom.line,\n",
    "    Coord.cartesian(xmax=size(test2, 2) + 1),\n",
    "    Guide.xlabel(\"Time Step\"),\n",
    "    Guide.ylabel(\"Believed True Value\"),\n",
    "    Guide.title(\"Trial Run with Parameters: ϵ = $ϵ, α = $α, τ = $τ, ζ = 0.75, mean\"),\n",
    "    yintercept=[τ], Geom.hline(style=:dot, color=colorant\"grey\"),\n",
    "    Guide.annotation(compose(context(), Compose.text(size(test2, 2) + 1, τ + 0.01, \"τ\"), font(\"DejaVu Mono\"), fontsize(10pt))),\n",
    "    Theme(key_position=:none, point_size=1.25pt,\n",
    "        background_color=colorant\"white\",\n",
    "        major_label_font=\"DejaVu Mono\",\n",
    "        minor_label_font=\"DejaVu Mono\",\n",
    "        major_label_font_size=12pt,\n",
    "        minor_label_font_size=8pt))"
   ]
  },
  {
   "cell_type": "markdown",
   "metadata": {},
   "source": [
    "The above result suggests that given a large enough value of $\\zeta$, the agents fail to converge at all to the true value of $\\tau$."
   ]
  },
  {
   "cell_type": "markdown",
   "metadata": {},
   "source": [
    "### Large Tolerance"
   ]
  },
  {
   "cell_type": "code",
   "execution_count": null,
   "metadata": {},
   "outputs": [],
   "source": [
    "test3 = hk_upd_n(25, 50, 0.9, α, τ, ζ, mean)\n",
    "df3 = DataFrame(test3') # transpose\n",
    "names!(df3, [Symbol(\"Agent $i\") for i in 1:size(test3,1)])\n",
    "df3 = stack(df3)\n",
    "df3[:steps] = repeat(1:size(test3, 2), outer=size(test3, 1))\n",
    "test3_plot = plot(df3, x=:steps, y=:value, color=:variable, Geom.point, Geom.line,\n",
    "    Coord.cartesian(xmax=size(test3, 2) + 1),\n",
    "    Guide.xlabel(\"Time Step\"),\n",
    "    Guide.ylabel(\"Believed True Value\"),\n",
    "    Guide.title(\"Trial Run with Parameters: ϵ = 0.9, α = $α, τ = $τ, ζ = $ζ, mean\"),\n",
    "    yintercept=[τ], Geom.hline(style=:dot, color=colorant\"grey\"),\n",
    "    Guide.annotation(compose(context(), Compose.text(size(test3, 2) + 1, τ + 0.01, \"τ\"), font(\"DejaVu Mono\"), fontsize(10pt))),\n",
    "    Theme(key_position=:none, point_size=1.25pt,\n",
    "        background_color=colorant\"white\",\n",
    "        major_label_font=\"DejaVu Mono\",\n",
    "        minor_label_font=\"DejaVu Mono\",\n",
    "        major_label_font_size=12pt,\n",
    "        minor_label_font_size=8pt))"
   ]
  },
  {
   "cell_type": "markdown",
   "metadata": {},
   "source": [
    "The above suggests that increasing the tolerance interval $\\epsilon$ among agents leads to a much rapid convergence."
   ]
  },
  {
   "cell_type": "markdown",
   "metadata": {},
   "source": [
    "### Other True Parameter Value"
   ]
  },
  {
   "cell_type": "code",
   "execution_count": null,
   "metadata": {},
   "outputs": [],
   "source": [
    "test4 = hk_upd_n(25, 50, ϵ, α, 0.2, ζ, mean)\n",
    "df4 = DataFrame(test4') # transpose\n",
    "names!(df4, [Symbol(\"Agent $i\") for i in 1:size(test4,1)])\n",
    "df4 = stack(df4)\n",
    "df4[:steps] = repeat(1:size(test4, 2), outer=size(test4, 1))\n",
    "test4_plot = plot(df4, x=:steps, y=:value, color=:variable, Geom.point, Geom.line,\n",
    "    Coord.cartesian(xmax=size(test4, 2) + 1),\n",
    "    Guide.xlabel(\"Time Step\"),\n",
    "    Guide.ylabel(\"Believed True Value\"),\n",
    "    Guide.title(\"Trial Run with Parameters: ϵ = $ϵ, α = $α, τ = 0.2, ζ = $ζ, mean\"),\n",
    "    yintercept=[0.2], Geom.hline(style=:dot, color=colorant\"grey\"),\n",
    "    Guide.annotation(compose(context(), Compose.text(size(test4, 2) + 1, 0.2 + 0.01, \"τ\"), font(\"DejaVu Mono\"), fontsize(10pt))),\n",
    "    Theme(key_position=:none, point_size=1.25pt,\n",
    "        background_color=colorant\"white\",\n",
    "        major_label_font=\"DejaVu Mono\",\n",
    "        minor_label_font=\"DejaVu Mono\",\n",
    "        major_label_font_size=12pt,\n",
    "        minor_label_font_size=8pt))"
   ]
  },
  {
   "cell_type": "markdown",
   "metadata": {},
   "source": [
    "This one is obvious, but still done for completeness."
   ]
  },
  {
   "cell_type": "markdown",
   "metadata": {},
   "source": [
    "### Small Weight to Peers"
   ]
  },
  {
   "cell_type": "code",
   "execution_count": null,
   "metadata": {},
   "outputs": [],
   "source": [
    "test5 = hk_upd_n(25, 50, ϵ, 0.1, τ, ζ, mean)\n",
    "df5 = DataFrame(test5') # transpose\n",
    "names!(df5, [Symbol(\"Agent $i\") for i in 1:size(test5,1)])\n",
    "df5 = stack(df5)\n",
    "df5[:steps] = repeat(1:size(test5, 2), outer=size(test5, 1))\n",
    "test5_plot = plot(df5, x=:steps, y=:value, color=:variable, Geom.point, Geom.line,\n",
    "    Coord.cartesian(xmax=size(test5, 2) + 1),\n",
    "    Guide.xlabel(\"Time Step\"),\n",
    "    Guide.ylabel(\"Believed True Value\"),\n",
    "    Guide.title(\"Trial Run with Parameters: ϵ = $ϵ, α = 0.1, τ = $τ, ζ = $ζ, mean\"),\n",
    "    yintercept=[τ], Geom.hline(style=:dot, color=colorant\"grey\"),\n",
    "    Guide.annotation(compose(context(), Compose.text(size(test5, 2) + 1, τ + 0.01, \"τ\"), font(\"DejaVu Mono\"), fontsize(10pt))),\n",
    "    Theme(key_position=:none, point_size=1.25pt,\n",
    "        background_color=colorant\"white\",\n",
    "        major_label_font=\"DejaVu Mono\",\n",
    "        minor_label_font=\"DejaVu Mono\",\n",
    "        major_label_font_size=12pt,\n",
    "        minor_label_font_size=8pt))"
   ]
  },
  {
   "cell_type": "markdown",
   "metadata": {},
   "source": [
    "If the weight $\\alpha$ assigned to peers is too small, the agents will approach the neighborhood of the true value, but will never get closer past a threshold the size of $\\zeta$."
   ]
  },
  {
   "cell_type": "markdown",
   "metadata": {},
   "source": [
    "## Generalizing Simulations"
   ]
  },
  {
   "cell_type": "code",
   "execution_count": 3,
   "metadata": {},
   "outputs": [
    {
     "data": {
      "text/plain": [
       "hk_sim_n (generic function with 1 method)"
      ]
     },
     "execution_count": 3,
     "metadata": {},
     "output_type": "execute_result"
    }
   ],
   "source": [
    "# this function will run the HK model 100 times\n",
    "#function hk_sim_n(n_agents::Int64, n_steps::Int64, ϵ::Float64, α::Float64, τ::Float64, ζ::Float64, averaging; n_sim::Int64=100)\n",
    "function hk_sim_n(n_agents, n_steps, ϵ, α, τ, ζ, averaging, n_sim)\n",
    "    sim_res = Array{Float64,3}(undef, n_agents, n_steps + 1, n_sim)\n",
    "    for i in 1:n_sim\n",
    "        sim_res[:, :, i] = hk_upd_n(n_agents, n_steps, ϵ, α, τ, ζ, averaging)\n",
    "    end\n",
    "    return sim_res\n",
    "end"
   ]
  },
  {
   "cell_type": "code",
   "execution_count": null,
   "metadata": {},
   "outputs": [],
   "source": [
    "sims = hk_sim_n(25, 50, ϵ, α, τ, ζ, mean, 100)"
   ]
  },
  {
   "cell_type": "markdown",
   "metadata": {},
   "source": [
    "## Descriptive Statistics "
   ]
  },
  {
   "cell_type": "code",
   "execution_count": null,
   "metadata": {},
   "outputs": [],
   "source": [
    "# how far removed from the truth are the agents at each step (squared error)?\n",
    "dts = map(x->(x-τ)^2, sims)"
   ]
  },
  {
   "cell_type": "code",
   "execution_count": null,
   "metadata": {},
   "outputs": [],
   "source": [
    "#what is the sum of the squared errors for the various agents in the various simulations?\n",
    "sum(dts, dims=2)"
   ]
  },
  {
   "cell_type": "code",
   "execution_count": null,
   "metadata": {},
   "outputs": [],
   "source": [
    "#on average, how far removed are the agents from the truth, at each step in each simulation?\n",
    "mean(dts, dims=1)"
   ]
  },
  {
   "cell_type": "markdown",
   "metadata": {},
   "source": [
    "## Table 2 Comparison"
   ]
  },
  {
   "cell_type": "code",
   "execution_count": 45,
   "metadata": {},
   "outputs": [
    {
     "data": {
      "text/plain": [
       "1×51×100 Array{Float64,3}:\n",
       "[:, :, 1] =\n",
       " 0.338573  0.269319  0.217164  0.172285  …  0.000204003  0.000254325\n",
       "\n",
       "[:, :, 2] =\n",
       " 0.312764  0.256168  0.204701  0.164495  …  0.000393963  0.000327243\n",
       "\n",
       "[:, :, 3] =\n",
       " 0.249342  0.2052  0.166056  0.13381  0.110359  …  0.000322345  0.000338708\n",
       "\n",
       "...\n",
       "\n",
       "[:, :, 98] =\n",
       " 0.373438  0.30045  0.242963  0.189475  0.157576  …  0.000252691  0.000175549\n",
       "\n",
       "[:, :, 99] =\n",
       " 0.265107  0.213355  0.167372  0.130283  …  0.000281534  0.000217797\n",
       "\n",
       "[:, :, 100] =\n",
       " 0.27233  0.217669  0.16998  0.138159  0.114076  …  0.000364499  0.000369818"
      ]
     },
     "execution_count": 45,
     "metadata": {},
     "output_type": "execute_result"
    }
   ],
   "source": [
    "sim_res = hk_sim_n(25, 50, 0.1, 0.9, τ, ζ, mean, 100)\n",
    "# find the square error from the truth of each agent at each step, in each simulation\n",
    "square_error = map(x->2*(x-τ)^2, sim_res)\n",
    "# find the average distance of the agents from the truth at each step, in each simulation\n",
    "step_average = mean(square_error, dims=1)"
   ]
  },
  {
   "cell_type": "code",
   "execution_count": 46,
   "metadata": {},
   "outputs": [
    {
     "data": {
      "text/plain": [
       "0.12358522616922643"
      ]
     },
     "execution_count": 46,
     "metadata": {},
     "output_type": "execute_result"
    }
   ],
   "source": [
    "t = 50\n",
    "# find the average distance from the truth at the fifth step of all simulations\n",
    "fifthstep_average = mean(step_average[1,5,:])"
   ]
  },
  {
   "cell_type": "code",
   "execution_count": 47,
   "metadata": {},
   "outputs": [
    {
     "data": {
      "text/plain": [
       "0.041500910257698774"
      ]
     },
     "execution_count": 47,
     "metadata": {},
     "output_type": "execute_result"
    }
   ],
   "source": [
    "# find the average distance from the truth at the tenth step of all simulations\n",
    "tenthstep_average = mean(step_average[1,10,:])"
   ]
  },
  {
   "cell_type": "code",
   "execution_count": 48,
   "metadata": {},
   "outputs": [
    {
     "data": {
      "text/plain": [
       "0.001309327340820676"
      ]
     },
     "execution_count": 48,
     "metadata": {},
     "output_type": "execute_result"
    }
   ],
   "source": [
    "# find the average distance from the truth at the tenth step of all simulations\n",
    "twentyfifthstep_average = mean(step_average[1,25,:])"
   ]
  },
  {
   "cell_type": "code",
   "execution_count": 49,
   "metadata": {},
   "outputs": [
    {
     "data": {
      "text/plain": [
       "0.00031237849256472467"
      ]
     },
     "execution_count": 49,
     "metadata": {},
     "output_type": "execute_result"
    }
   ],
   "source": [
    "# find the average distance from the truth at the last step of all simulations\n",
    "fiftieth_average = mean(step_average[1,t+1,:])"
   ]
  },
  {
   "cell_type": "code",
   "execution_count": 63,
   "metadata": {
    "scrolled": false
   },
   "outputs": [
    {
     "data": {
      "text/plain": [
       "1×51×100 Array{Float64,3}:\n",
       "[:, :, 1] =\n",
       " 0.326621  0.094088  0.0362845  …  0.0086383  0.00587286  0.00696172\n",
       "\n",
       "[:, :, 2] =\n",
       " 0.246988  0.0533916  0.019233  …  0.00879059  0.00950248  0.00969632\n",
       "\n",
       "[:, :, 3] =\n",
       " 0.214866  0.0614204  0.0162417  …  0.00983783  0.0087946  0.00817835\n",
       "\n",
       "...\n",
       "\n",
       "[:, :, 98] =\n",
       " 0.218168  0.0424686  0.0164979  …  0.00489704  0.0113827  0.0127369\n",
       "\n",
       "[:, :, 99] =\n",
       " 0.377968  0.097092  0.0381848  …  0.0110523  0.00846974  0.0108067\n",
       "\n",
       "[:, :, 100] =\n",
       " 0.179066  0.0554133  0.0268531  …  0.0113538  0.00682988  0.00418005"
      ]
     },
     "execution_count": 63,
     "metadata": {},
     "output_type": "execute_result"
    }
   ],
   "source": [
    "# no difference-splitting\n",
    "sim_res = hk_sim_n(25, 50, 0, 0.5, τ, ζ, mean, 100)\n",
    "square_error = map(x->2*(x-τ)^2, sim_res)\n",
    "# find the average distance of the agents from the truth at each step, in each simulation\n",
    "step_average = mean(square_error, dims=1)"
   ]
  },
  {
   "cell_type": "code",
   "execution_count": 64,
   "metadata": {},
   "outputs": [
    {
     "data": {
      "text/plain": [
       "0.010396946895966111"
      ]
     },
     "execution_count": 64,
     "metadata": {},
     "output_type": "execute_result"
    }
   ],
   "source": [
    "t = 50\n",
    "# find the average distance from the truth at the fifth step of all simulations\n",
    "fifthstep_average = mean(step_average[1,5,:])"
   ]
  },
  {
   "cell_type": "code",
   "execution_count": 65,
   "metadata": {},
   "outputs": [
    {
     "data": {
      "text/plain": [
       "0.008906998358351044"
      ]
     },
     "execution_count": 65,
     "metadata": {},
     "output_type": "execute_result"
    }
   ],
   "source": [
    "# find the average distance from the truth at the tenth step of all simulations\n",
    "tenthstep_average = mean(step_average[1,10,:])"
   ]
  },
  {
   "cell_type": "code",
   "execution_count": 66,
   "metadata": {},
   "outputs": [
    {
     "data": {
      "text/plain": [
       "0.00903139789148511"
      ]
     },
     "execution_count": 66,
     "metadata": {},
     "output_type": "execute_result"
    }
   ],
   "source": [
    "# find the average distance from the truth at the tenth step of all simulations\n",
    "twentyfifthstep_average = mean(step_average[1,25,:])"
   ]
  },
  {
   "cell_type": "code",
   "execution_count": 67,
   "metadata": {},
   "outputs": [
    {
     "data": {
      "text/plain": [
       "0.00866499307864603"
      ]
     },
     "execution_count": 67,
     "metadata": {},
     "output_type": "execute_result"
    }
   ],
   "source": [
    "# find the average distance from the truth at the last step of all simulations\n",
    "fiftieth_average = mean(step_average[1,t+1,:])"
   ]
  },
  {
   "cell_type": "markdown",
   "metadata": {},
   "source": [
    "## Helper Functions "
   ]
  },
  {
   "cell_type": "markdown",
   "metadata": {},
   "source": [
    "These functions will offer generalizations of Douven's Code to facilitate data processing and plotting"
   ]
  },
  {
   "cell_type": "code",
   "execution_count": 18,
   "metadata": {},
   "outputs": [
    {
     "data": {
      "text/plain": [
       "stack_dataset (generic function with 1 method)"
      ]
     },
     "execution_count": 18,
     "metadata": {},
     "output_type": "execute_result"
    }
   ],
   "source": [
    "# process simulation result to make it plotable in Gadfly\n",
    "function stack_dataset(hk_array)\n",
    "    dframe = DataFrame(hk_array')\n",
    "    names!(dframe, [Symbol(\"Agent $i\") for i in 1:size(hk_array,1)])\n",
    "    dframe = stack(dframe)\n",
    "    dframe[:steps] = repeat(1:size(hk_array, 2), outer=size(hk_array, 1))\n",
    "    return dframe\n",
    "end"
   ]
  },
  {
   "cell_type": "code",
   "execution_count": 30,
   "metadata": {},
   "outputs": [
    {
     "data": {
      "text/html": [
       "<table class=\"data-frame\"><thead><tr><th></th><th>variable</th><th>value</th><th>steps</th></tr><tr><th></th><th>Symbol</th><th>Float64</th><th>Int32</th></tr></thead><tbody><p>1,275 rows × 3 columns</p><tr><th>1</th><td>Agent 1</td><td>0.0332152</td><td>1</td></tr><tr><th>2</th><td>Agent 1</td><td>0.0968633</td><td>2</td></tr><tr><th>3</th><td>Agent 1</td><td>0.190823</td><td>3</td></tr><tr><th>4</th><td>Agent 1</td><td>0.248204</td><td>4</td></tr><tr><th>5</th><td>Agent 1</td><td>0.279933</td><td>5</td></tr><tr><th>6</th><td>Agent 1</td><td>0.334502</td><td>6</td></tr><tr><th>7</th><td>Agent 1</td><td>0.356572</td><td>7</td></tr><tr><th>8</th><td>Agent 1</td><td>0.423435</td><td>8</td></tr><tr><th>9</th><td>Agent 1</td><td>0.46118</td><td>9</td></tr><tr><th>10</th><td>Agent 1</td><td>0.480651</td><td>10</td></tr><tr><th>11</th><td>Agent 1</td><td>0.506212</td><td>11</td></tr><tr><th>12</th><td>Agent 1</td><td>0.518226</td><td>12</td></tr><tr><th>13</th><td>Agent 1</td><td>0.530867</td><td>13</td></tr><tr><th>14</th><td>Agent 1</td><td>0.580672</td><td>14</td></tr><tr><th>15</th><td>Agent 1</td><td>0.572577</td><td>15</td></tr><tr><th>16</th><td>Agent 1</td><td>0.598364</td><td>16</td></tr><tr><th>17</th><td>Agent 1</td><td>0.601926</td><td>17</td></tr><tr><th>18</th><td>Agent 1</td><td>0.694267</td><td>18</td></tr><tr><th>19</th><td>Agent 1</td><td>0.705147</td><td>19</td></tr><tr><th>20</th><td>Agent 1</td><td>0.713486</td><td>20</td></tr><tr><th>21</th><td>Agent 1</td><td>0.738988</td><td>21</td></tr><tr><th>22</th><td>Agent 1</td><td>0.715421</td><td>22</td></tr><tr><th>23</th><td>Agent 1</td><td>0.738027</td><td>23</td></tr><tr><th>24</th><td>Agent 1</td><td>0.713246</td><td>24</td></tr><tr><th>25</th><td>Agent 1</td><td>0.718042</td><td>25</td></tr><tr><th>26</th><td>Agent 1</td><td>0.724605</td><td>26</td></tr><tr><th>27</th><td>Agent 1</td><td>0.721719</td><td>27</td></tr><tr><th>28</th><td>Agent 1</td><td>0.738414</td><td>28</td></tr><tr><th>29</th><td>Agent 1</td><td>0.735592</td><td>29</td></tr><tr><th>30</th><td>Agent 1</td><td>0.735513</td><td>30</td></tr><tr><th>&vellip;</th><td>&vellip;</td><td>&vellip;</td><td>&vellip;</td></tr></tbody></table>"
      ],
      "text/latex": [
       "\\begin{tabular}{r|ccc}\n",
       "\t& variable & value & steps\\\\\n",
       "\t\\hline\n",
       "\t& Symbol & Float64 & Int32\\\\\n",
       "\t\\hline\n",
       "\t1 & Agent 1 & 0.0332152 & 1 \\\\\n",
       "\t2 & Agent 1 & 0.0968633 & 2 \\\\\n",
       "\t3 & Agent 1 & 0.190823 & 3 \\\\\n",
       "\t4 & Agent 1 & 0.248204 & 4 \\\\\n",
       "\t5 & Agent 1 & 0.279933 & 5 \\\\\n",
       "\t6 & Agent 1 & 0.334502 & 6 \\\\\n",
       "\t7 & Agent 1 & 0.356572 & 7 \\\\\n",
       "\t8 & Agent 1 & 0.423435 & 8 \\\\\n",
       "\t9 & Agent 1 & 0.46118 & 9 \\\\\n",
       "\t10 & Agent 1 & 0.480651 & 10 \\\\\n",
       "\t11 & Agent 1 & 0.506212 & 11 \\\\\n",
       "\t12 & Agent 1 & 0.518226 & 12 \\\\\n",
       "\t13 & Agent 1 & 0.530867 & 13 \\\\\n",
       "\t14 & Agent 1 & 0.580672 & 14 \\\\\n",
       "\t15 & Agent 1 & 0.572577 & 15 \\\\\n",
       "\t16 & Agent 1 & 0.598364 & 16 \\\\\n",
       "\t17 & Agent 1 & 0.601926 & 17 \\\\\n",
       "\t18 & Agent 1 & 0.694267 & 18 \\\\\n",
       "\t19 & Agent 1 & 0.705147 & 19 \\\\\n",
       "\t20 & Agent 1 & 0.713486 & 20 \\\\\n",
       "\t21 & Agent 1 & 0.738988 & 21 \\\\\n",
       "\t22 & Agent 1 & 0.715421 & 22 \\\\\n",
       "\t23 & Agent 1 & 0.738027 & 23 \\\\\n",
       "\t24 & Agent 1 & 0.713246 & 24 \\\\\n",
       "\t25 & Agent 1 & 0.718042 & 25 \\\\\n",
       "\t26 & Agent 1 & 0.724605 & 26 \\\\\n",
       "\t27 & Agent 1 & 0.721719 & 27 \\\\\n",
       "\t28 & Agent 1 & 0.738414 & 28 \\\\\n",
       "\t29 & Agent 1 & 0.735592 & 29 \\\\\n",
       "\t30 & Agent 1 & 0.735513 & 30 \\\\\n",
       "\t$\\dots$ & $\\dots$ & $\\dots$ & $\\dots$ \\\\\n",
       "\\end{tabular}\n"
      ],
      "text/plain": [
       "1275×3 DataFrame\n",
       "│ Row  │ variable │ value     │ steps │\n",
       "│      │ \u001b[90mSymbol\u001b[39m   │ \u001b[90mFloat64\u001b[39m   │ \u001b[90mInt32\u001b[39m │\n",
       "├──────┼──────────┼───────────┼───────┤\n",
       "│ 1    │ Agent 1  │ 0.0332152 │ 1     │\n",
       "│ 2    │ Agent 1  │ 0.0968633 │ 2     │\n",
       "│ 3    │ Agent 1  │ 0.190823  │ 3     │\n",
       "│ 4    │ Agent 1  │ 0.248204  │ 4     │\n",
       "│ 5    │ Agent 1  │ 0.279933  │ 5     │\n",
       "│ 6    │ Agent 1  │ 0.334502  │ 6     │\n",
       "│ 7    │ Agent 1  │ 0.356572  │ 7     │\n",
       "│ 8    │ Agent 1  │ 0.423435  │ 8     │\n",
       "│ 9    │ Agent 1  │ 0.46118   │ 9     │\n",
       "│ 10   │ Agent 1  │ 0.480651  │ 10    │\n",
       "⋮\n",
       "│ 1265 │ Agent 25 │ 0.721836  │ 41    │\n",
       "│ 1266 │ Agent 25 │ 0.752019  │ 42    │\n",
       "│ 1267 │ Agent 25 │ 0.724524  │ 43    │\n",
       "│ 1268 │ Agent 25 │ 0.764408  │ 44    │\n",
       "│ 1269 │ Agent 25 │ 0.749654  │ 45    │\n",
       "│ 1270 │ Agent 25 │ 0.762554  │ 46    │\n",
       "│ 1271 │ Agent 25 │ 0.748629  │ 47    │\n",
       "│ 1272 │ Agent 25 │ 0.749844  │ 48    │\n",
       "│ 1273 │ Agent 25 │ 0.762166  │ 49    │\n",
       "│ 1274 │ Agent 25 │ 0.77165   │ 50    │\n",
       "│ 1275 │ Agent 25 │ 0.751135  │ 51    │"
      ]
     },
     "execution_count": 30,
     "metadata": {},
     "output_type": "execute_result"
    }
   ],
   "source": [
    "# test the helper function\n",
    "# note: there is some deprecated whatever, but I don't care\n",
    "test_dframe = stack_dataset(res)\n",
    "test_dframe"
   ]
  },
  {
   "cell_type": "code",
   "execution_count": 20,
   "metadata": {},
   "outputs": [
    {
     "data": {
      "text/plain": [
       "plot_dataset (generic function with 1 method)"
      ]
     },
     "execution_count": 20,
     "metadata": {},
     "output_type": "execute_result"
    }
   ],
   "source": [
    "function plot_dataset(hk_array)\n",
    "    dframe = stack_dataset(hk_array)\n",
    "    plot_result = plot(dframe, x=:steps, y=:value, color=:variable, Geom.point, Geom.line,\n",
    "    Coord.cartesian(xmax=size(hk_array, 2) + 1),\n",
    "    Guide.xlabel(\"Time Step\"),\n",
    "    Guide.ylabel(\"Believed True Value\"),\n",
    "    Guide.title(\"Trial Run with Parameters: ϵ = $ϵ, α = $α, τ = $τ, ζ = $ζ, mean\"),\n",
    "    yintercept=[τ], Geom.hline(style=:dot, color=colorant\"black\"),\n",
    "    Guide.annotation(compose(context(), Compose.text(size(hk_array, 2) + 1, τ + 0.01, \"τ\"), font(\"DejaVu Mono\"), fontsize(10pt))),\n",
    "    Theme(key_position=:none, point_size=1.25pt,\n",
    "        background_color=colorant\"white\",\n",
    "        major_label_font=\"DejaVu Mono\",\n",
    "        minor_label_font=\"DejaVu Mono\",\n",
    "        major_label_font_size=12pt,\n",
    "        minor_label_font_size=8pt),)\n",
    "    return plot_result\n",
    "end"
   ]
  },
  {
   "cell_type": "code",
   "execution_count": null,
   "metadata": {},
   "outputs": [],
   "source": [
    "plot_dataset(res)"
   ]
  },
  {
   "cell_type": "markdown",
   "metadata": {},
   "source": [
    "Wonderful, this does all I want it to do! :)"
   ]
  }
 ],
 "metadata": {
  "kernelspec": {
   "display_name": "Julia 1.0.4",
   "language": "julia",
   "name": "julia-1.0"
  },
  "language_info": {
   "file_extension": ".jl",
   "mimetype": "application/julia",
   "name": "julia",
   "version": "1.0.4"
  }
 },
 "nbformat": 4,
 "nbformat_minor": 2
}
